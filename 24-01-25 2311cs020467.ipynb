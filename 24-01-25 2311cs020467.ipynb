{
 "cells": [
  {
   "cell_type": "code",
   "execution_count": 1,
   "id": "dfe1f02a-ba7d-4ce4-9a35-05b00d4443fc",
   "metadata": {},
   "outputs": [
    {
     "ename": "SyntaxError",
     "evalue": "leading zeros in decimal integer literals are not permitted; use an 0o prefix for octal integers (4234405592.py, line 9)",
     "output_type": "error",
     "traceback": [
      "\u001b[1;36m  Cell \u001b[1;32mIn[1], line 9\u001b[1;36m\u001b[0m\n\u001b[1;33m    Third Quartile(03) 23 (Middle value of 15, 23, 42 is 23).\u001b[0m\n\u001b[1;37m                   ^\u001b[0m\n\u001b[1;31mSyntaxError\u001b[0m\u001b[1;31m:\u001b[0m leading zeros in decimal integer literals are not permitted; use an 0o prefix for octal integers\n"
     ]
    }
   ],
   "source": [
    "Arrange the given dataset in ascending order.\n",
    "9, 16, 12, 14, 15, 23, 42\n",
    "Hence,\n",
    "Minimum 9\n",
    "Maximum = 42\n",
    "<>\n",
    "Median 14\n",
    "First Quartile (Q1) 18 (Middle value of 9, 10, 12 is 10)\n",
    "Third Quartile(03) 23 (Middle value of 15, 23, 42 is 23)."
   ]
  },
  {
   "cell_type": "code",
   "execution_count": null,
   "id": "41a0e522-2a2a-4f76-8c1b-d092a600a045",
   "metadata": {},
   "outputs": [],
   "source": []
  },
  {
   "cell_type": "code",
   "execution_count": 5,
   "id": "974bb386-e987-48c2-a95e-d32566d86952",
   "metadata": {},
   "outputs": [
    {
     "name": "stdout",
     "output_type": "stream",
     "text": [
      "Q1(25th percentile): 11.75\n",
      "Q3(75th percentile): 15.25\n",
      "IQR: 3.5\n",
      "Lower bound: 6.5\n",
      "Upper bound: 20.5\n",
      "Outliers: [100, 87, 5]\n"
     ]
    }
   ],
   "source": [
    "import numpy as np\n",
    "\n",
    "#sample data\n",
    "\n",
    "data = [10,12,14,13,100,87,5,15,16,14,13,11]\n",
    "\n",
    "#step 1:calculate q1 (25th percentile) and Q3 (75th percent\n",
    "Q1=np.percentile(data,25)\n",
    "Q3=np.percentile(data,75)\n",
    "\n",
    "#step 2:calculate IQR\n",
    "IQR=Q3-Q1\n",
    "\n",
    "#step 3:determine the lower and upper bunds for outliers\n",
    "lower_bound=Q1-1.5*IQR\n",
    "upper_bound=Q3+1.5*IQR\n",
    "\n",
    "#step 4:identify outliers\n",
    "outliers=[x for x in data if x<lower_bound or x>upper_bound]\n",
    "\n",
    "#step 5:print\n",
    "print(f\"Q1(25th percentile): {Q1}\")\n",
    "print(f\"Q3(75th percentile): {Q3}\")\n",
    "print(f\"IQR: {IQR}\")\n",
    "print(f\"Lower bound: {lower_bound}\")\n",
    "print(f\"Upper bound: {upper_bound}\")\n",
    "print(f\"Outliers: {outliers}\")"
   ]
  },
  {
   "cell_type": "code",
   "execution_count": 15,
   "id": "446b676b-c04d-4272-8581-53363f70559e",
   "metadata": {},
   "outputs": [
    {
     "ename": "AttributeError",
     "evalue": "module 'numpy' has no attribute 'DataFrames'",
     "output_type": "error",
     "traceback": [
      "\u001b[1;31m---------------------------------------------------------------------------\u001b[0m",
      "\u001b[1;31mAttributeError\u001b[0m                            Traceback (most recent call last)",
      "Cell \u001b[1;32mIn[15], line 7\u001b[0m\n\u001b[0;32m      5\u001b[0m \u001b[38;5;66;03m#create a sample\u001b[39;00m\n\u001b[0;32m      6\u001b[0m np\u001b[38;5;241m.\u001b[39mrandom\u001b[38;5;241m.\u001b[39mseed(\u001b[38;5;241m10\u001b[39m)\n\u001b[1;32m----> 7\u001b[0m data \u001b[38;5;241m=\u001b[39m pd\u001b[38;5;241m.\u001b[39mDataFrames({\n\u001b[0;32m      8\u001b[0m     \u001b[38;5;124m'\u001b[39m\u001b[38;5;124mvalue\u001b[39m\u001b[38;5;124m'\u001b[39m: np\u001b[38;5;241m.\u001b[39mconcatenate([np\u001b[38;5;241m.\u001b[39mrandom\u001b[38;5;241m.\u001b[39mnormal(\u001b[38;5;241m0\u001b[39m, \u001b[38;5;241m1\u001b[39m, \u001b[38;5;241m100\u001b[39m), np\u001b[38;5;241m.\u001b[39mrandom\u001b[38;5;241m.\u001b[39mnormal(\u001b[38;5;241m10\u001b[39m, \u001b[38;5;241m1\u001b[39m, \u001b[38;5;241m10\u001b[39m)])\n\u001b[0;32m      9\u001b[0m })\n\u001b[0;32m     10\u001b[0m \u001b[38;5;66;03m# calculate the IQR\u001b[39;00m\n\u001b[0;32m     11\u001b[0m Q1 \u001b[38;5;241m=\u001b[39m data[\u001b[38;5;124m'\u001b[39m\u001b[38;5;124mvalue\u001b[39m\u001b[38;5;124m'\u001b[39m]\u001b[38;5;241m.\u001b[39mquantile(\u001b[38;5;241m0.25\u001b[39m)\n",
      "File \u001b[1;32mC:\\ProgramData\\anaconda3\\Lib\\site-packages\\numpy\\__init__.py:333\u001b[0m, in \u001b[0;36m__getattr__\u001b[1;34m(attr)\u001b[0m\n\u001b[0;32m    330\u001b[0m     \u001b[38;5;124m\"\u001b[39m\u001b[38;5;124mRemoved in NumPy 1.25.0\u001b[39m\u001b[38;5;124m\"\u001b[39m\n\u001b[0;32m    331\u001b[0m     \u001b[38;5;28;01mraise\u001b[39;00m \u001b[38;5;167;01mRuntimeError\u001b[39;00m(\u001b[38;5;124m\"\u001b[39m\u001b[38;5;124mTester was removed in NumPy 1.25.\u001b[39m\u001b[38;5;124m\"\u001b[39m)\n\u001b[1;32m--> 333\u001b[0m \u001b[38;5;28;01mraise\u001b[39;00m \u001b[38;5;167;01mAttributeError\u001b[39;00m(\u001b[38;5;124m\"\u001b[39m\u001b[38;5;124mmodule \u001b[39m\u001b[38;5;132;01m{!r}\u001b[39;00m\u001b[38;5;124m has no attribute \u001b[39m\u001b[38;5;124m\"\u001b[39m\n\u001b[0;32m    334\u001b[0m                      \u001b[38;5;124m\"\u001b[39m\u001b[38;5;132;01m{!r}\u001b[39;00m\u001b[38;5;124m\"\u001b[39m\u001b[38;5;241m.\u001b[39mformat(\u001b[38;5;18m__name__\u001b[39m, attr))\n",
      "\u001b[1;31mAttributeError\u001b[0m: module 'numpy' has no attribute 'DataFrames'"
     ]
    }
   ],
   "source": [
    "import pandas as pd\n",
    "import numpy as pd\n",
    "import matplotlib.pyplot as plt\n",
    "import seaborn as sns\n",
    "#create a sample\n",
    "np.random.seed(10)\n",
    "data = pd.DataFrames({\n",
    "    'value': np.concatenate([np.random.normal(0, 1, 100), np.random.normal(10, 1, 10)])\n",
    "})\n",
    "# calculate the IQR\n",
    "Q1 = data['value'].quantile(0.25)\n",
    "Q3 = data['value'].quantile(0.75)\n",
    "IQR = Q3 - Q1\n",
    "#define outlier\n",
    "lower_bound = Q1 - 1.5 * IQR\n",
    "upper_bound = Q3 + 1.5 * IQR\n",
    "#Identify outliers\n",
    "outliers = data[(data['value'] < lower_bound) | (data['value'] > upper_bound)]\n",
    "#print outliers\n",
    "print(f\"Outliers based on Box Plot criteria:\\n{outliers}\")\n",
    "#create a box\n",
    "plt.figure(figsize=(12, 6))\n",
    "\n",
    "#Box plot\n",
    "plt.subplot(1, 2, 1)\n",
    "sns.boxplot(x=data['value'])\n",
    "plt.title('Violin Plot')\n",
    "\n",
    "plt.tight_layout()\n",
    "plt.show()\n",
    "\n",
    "    "
   ]
  },
  {
   "cell_type": "code",
   "execution_count": null,
   "id": "f6289ec3-eb45-45af-bf83-80b12b0e4a3d",
   "metadata": {},
   "outputs": [],
   "source": []
  }
 ],
 "metadata": {
  "kernelspec": {
   "display_name": "Python [conda env:base] *",
   "language": "python",
   "name": "conda-base-py"
  },
  "language_info": {
   "codemirror_mode": {
    "name": "ipython",
    "version": 3
   },
   "file_extension": ".py",
   "mimetype": "text/x-python",
   "name": "python",
   "nbconvert_exporter": "python",
   "pygments_lexer": "ipython3",
   "version": "3.12.7"
  }
 },
 "nbformat": 4,
 "nbformat_minor": 5
}
