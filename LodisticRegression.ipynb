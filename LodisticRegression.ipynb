{
  "nbformat": 4,
  "nbformat_minor": 0,
  "metadata": {
    "colab": {
      "provenance": []
    },
    "kernelspec": {
      "name": "python3",
      "display_name": "Python 3"
    },
    "language_info": {
      "name": "python"
    }
  },
  "cells": [
    {
      "cell_type": "code",
      "execution_count": null,
      "metadata": {
        "id": "48vylHpDac6Z"
      },
      "outputs": [],
      "source": [
        "import pandas as pd\n",
        "import streamlit as st\n",
        "from sklearn.linear_model import LodisticRegression\n",
        "\n",
        "st.title('Model Depoyment; LogisticRegression')\n",
        "st.sidebar.header('User Input Parameters')\n",
        "\n",
        "def user_input_features():\n",
        "  CLMSEX = st.sidebar.selectbox('Gender',('1','0'))\n",
        "  CLMINSUR = st.sidebar.selectbox('Insurance',('1','0'))\n",
        "  SEATBELT = st.sidebar.selectbox('SeatBelt',('1','0'))\n",
        "  CLMAGE = st.sidebar.number_input(\"Insert the Age\")\n",
        "  LOSS = st.sidebar.number_input(\"Insert Loss\")\n",
        "  data = {'CLMSEX':CLMSEX,\n",
        "          'CLMINSUR':CLMINSUR,\n",
        "          'SEATBELT':SEATBELT,\n",
        "          'CLMAGE':CLMAGE,\n",
        "          'LOSS':LOSS}\n",
        "          features = pd.DataFrame(data,index=[0])\n",
        "  return features\n",
        "\n",
        "df = user_input_features()\n",
        "\n",
        "st.subheader('User Input parameters')\n",
        "st.write(df)\n",
        "claimants = pd.read_csv('claimants.csv')\n",
        "claimants.drop(['CASENUM'],inplace=True,axis=1)\n",
        "claimants = claimants.dropna()\n",
        "X = claimants.iloc[:,[1,2,3,4,5]]\n",
        "Y = claimants.iloc[:,0]\n",
        "clf = LogisticRegression()\n",
        "clf.fit(X,Y)\n",
        "\n",
        "prediction = clf.predict(df)\n",
        "prediction_proba = clf.predict_proba(df)\n",
        "\n",
        "st.subheader('Predicted Result')\n",
        "st.write('Yes' if prediction_proba[0][1] > 0.5 else 'No')\n",
        "\n",
        "st.subheader('Prediction Probability')\n",
        "st.write(prediction_proba)\n"
      ]
    },
    {
      "cell_type": "code",
      "source": [],
      "metadata": {
        "id": "OZiSxAm2jAFM"
      },
      "execution_count": null,
      "outputs": []
    }
  ]
}