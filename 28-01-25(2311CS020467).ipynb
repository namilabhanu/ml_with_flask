{
 "cells": [
  {
   "cell_type": "code",
   "execution_count": 4,
   "id": "58fa6721-a4aa-47f4-a3f1-9865b42c818e",
   "metadata": {},
   "outputs": [
    {
     "name": "stdout",
     "output_type": "stream",
     "text": [
      "Original DataFrame:\n",
      "   customer_id  gender subscription_status\n",
      "0            1    Male              Active\n",
      "1            2  Female            Inactive\n",
      "2            3  Female              Active\n",
      "3            4    Male            Inactive\n",
      "\n",
      "DataFrame after encoding:\n",
      "   customer_id  gender subscription_status  gender_encoded  \\\n",
      "0            1    Male              Active               1   \n",
      "1            2  Female            Inactive               0   \n",
      "2            3  Female              Active               0   \n",
      "3            4    Male            Inactive               1   \n",
      "\n",
      "   subscription_status_Active  subscription_status_Inactive  \n",
      "0                         1.0                           0.0  \n",
      "1                         0.0                           1.0  \n",
      "2                         1.0                           0.0  \n",
      "3                         0.0                           1.0  \n"
     ]
    }
   ],
   "source": [
    "import pandas as pd\n",
    "from sklearn.preprocessing import LabelEncoder, OneHotEncoder\n",
    "\n",
    "\n",
    "data = {\n",
    "    \"customer_id\": [1, 2, 3, 4],\n",
    "    \"gender\": [\"Male\", \"Female\", \"Female\", \"Male\"],\n",
    "    \"subscription_status\": [\"Active\", \"Inactive\", \"Active\", \"Inactive\"]  \n",
    "\n",
    "}\n",
    "df = pd.DataFrame(data)\n",
    "print(\"Original DataFrame:\")\n",
    "print(df)\n",
    "\n",
    "    \n",
    "label_encoder = LabelEncoder()\n",
    "df['gender_encoded'] = label_encoder.fit_transform(df['gender'])\n",
    "\n",
    "\n",
    "one_hot_encoder = OneHotEncoder(sparse_output=False)\n",
    "one_hot_encoded = one_hot_encoder.fit_transform(df[['subscription_status']])\n",
    "\n",
    "\n",
    "one_hot_df = pd.DataFrame(one_hot_encoded, columns=one_hot_encoder.get_feature_names_out(['subscription_status']))\n",
    "df = pd.concat([df, one_hot_df], axis=1)\n",
    "\n",
    "print(\"\\nDataFrame after encoding:\")\n",
    "print(df)"
   ]
  },
  {
   "cell_type": "code",
   "execution_count": null,
   "id": "075b7173-8c20-4842-993f-28606c6ff1ae",
   "metadata": {},
   "outputs": [],
   "source": [
    "import pandas as pd\n",
    "from sklearn.preprocessing import "
   ]
  }
 ],
 "metadata": {
  "kernelspec": {
   "display_name": "Python [conda env:base] *",
   "language": "python",
   "name": "conda-base-py"
  },
  "language_info": {
   "codemirror_mode": {
    "name": "ipython",
    "version": 3
   },
   "file_extension": ".py",
   "mimetype": "text/x-python",
   "name": "python",
   "nbconvert_exporter": "python",
   "pygments_lexer": "ipython3",
   "version": "3.12.7"
  }
 },
 "nbformat": 4,
 "nbformat_minor": 5
}
