{
 "cells": [
  {
   "cell_type": "code",
   "execution_count": 1,
   "id": "3b66eab9-e5f3-432d-b7f1-62a0890e1350",
   "metadata": {},
   "outputs": [
    {
     "name": "stdout",
     "output_type": "stream",
     "text": [
      "Original dataframe\n",
      "   age  height  weight\n",
      "0   25     150      50\n",
      "1   30     160      60\n",
      "2   35     170      70\n",
      "3   40     180      80\n",
      "4   45     190      90\n",
      "Normalised dataframe\n",
      "    age  height  weight\n",
      "0  0.00    0.00    0.00\n",
      "1  0.25    0.25    0.25\n",
      "2  0.50    0.50    0.50\n",
      "3  0.75    0.75    0.75\n",
      "4  1.00    1.00    1.00\n"
     ]
    }
   ],
   "source": [
    "#normalisation with min max scaler\n",
    "import pandas as pd\n",
    "from sklearn.preprocessing import MinMaxScaler\n",
    "\n",
    "#sample dataset\n",
    "data={\n",
    "    'age':[25,30,35,40,45],\n",
    "    'height':[150,160,170,180,190],\n",
    "    'weight':[50,60,70,80,90]\n",
    "}\n",
    "\n",
    "df=pd.DataFrame(data)\n",
    "print(\"Original dataframe\")\n",
    "print(df)\n",
    "\n",
    "#initialise min max scalar\n",
    "scalar=MinMaxScaler()\n",
    "\n",
    "#normalise the dataset\n",
    "normalised_data=scalar.fit_transform(df)\n",
    "\n",
    "normalised_df=pd.DataFrame(normalised_data,columns=df.columns)\n",
    "print(\"Normalised dataframe\")\n",
    "print(normalised_df)"
   ]
  },
  {
   "cell_type": "code",
   "execution_count": null,
   "id": "147b7db2-3d9a-498b-97e6-5f0d181caeff",
   "metadata": {},
   "outputs": [],
   "source": [
    "standardized_data = scaler"
   ]
  }
 ],
 "metadata": {
  "kernelspec": {
   "display_name": "Python [conda env:base] *",
   "language": "python",
   "name": "conda-base-py"
  },
  "language_info": {
   "codemirror_mode": {
    "name": "ipython",
    "version": 3
   },
   "file_extension": ".py",
   "mimetype": "text/x-python",
   "name": "python",
   "nbconvert_exporter": "python",
   "pygments_lexer": "ipython3",
   "version": "3.12.7"
  }
 },
 "nbformat": 4,
 "nbformat_minor": 5
}
