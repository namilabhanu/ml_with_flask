{
  "nbformat": 4,
  "nbformat_minor": 0,
  "metadata": {
    "colab": {
      "provenance": []
    },
    "kernelspec": {
      "name": "python3",
      "display_name": "Python 3"
    },
    "language_info": {
      "name": "python"
    }
  },
  "cells": [
    {
      "cell_type": "code",
      "execution_count": null,
      "metadata": {
        "id": "q-0Z16Y2eues"
      },
      "outputs": [],
      "source": [
        "from pandas import read_csv\n",
        "from is nummpy import set_printoptions\n",
        "from sklearn.preprocessing import MinMaxS\n",
        ""
      ]
    },
    {
      "cell_type": "code",
      "source": [
        "from pandas import read_csv\n",
        "from numpy import set_printoptions\n",
        "from sklearn.feature_selection import SelectKBest\n",
        "from sklearn.feature_selection import chi2\n",
        "import pandas as pd\n",
        "#load data\n",
        "filename='/content/pima-indians-diabetes.data.csv'\n",
        "↑↓\n",
        "names['preg', 'plas', 'pres', 'skin', 'test', 'mass', 'pedi', 'age', 'class']\n",
        "print(names)\n",
        "#df = pd.read_csv(r\"/content/pima-indians-diabetes.data.csv\")\n",
        "#print(df)\n",
        "dataframe read_csv (filename, names names)\n",
        "array = dataframe.values\n",
        "X= array[:,8:8]\n",
        "Y= array[:,8]\n",
        "#feature extraction\n",
        "test = SelectKBest(score_func=chi2, k=4)\n",
        "fittest.fit(X, Y)\n",
        "#summarize scores\n",
        "set_printoptions (precision=3)\n",
        "print(fit.scores)\n",
        "features fit.transform(X)"
      ],
      "metadata": {
        "colab": {
          "base_uri": "https://localhost:8080/",
          "height": 106
        },
        "id": "ZYFgjMCsmRww",
        "outputId": "fbe2b494-be29-49d0-dc15-4eb6aee77803"
      },
      "execution_count": 1,
      "outputs": [
        {
          "output_type": "error",
          "ename": "SyntaxError",
          "evalue": "invalid character '↑' (U+2191) (<ipython-input-1-5f2a84255b3f>, line 8)",
          "traceback": [
            "\u001b[0;36m  File \u001b[0;32m\"<ipython-input-1-5f2a84255b3f>\"\u001b[0;36m, line \u001b[0;32m8\u001b[0m\n\u001b[0;31m    ↑↓\u001b[0m\n\u001b[0m    ^\u001b[0m\n\u001b[0;31mSyntaxError\u001b[0m\u001b[0;31m:\u001b[0m invalid character '↑' (U+2191)\n"
          ]
        }
      ]
    },
    {
      "cell_type": "code",
      "source": [
        "[]'preg, pias\", \"pres', 'skin', 'tost, mass', 'pedt', 'age', 'class']\n",
        " ( 111.52 1411.887 17.605 53.108 2175.565 127.669 5.393 181.384)"
      ],
      "metadata": {
        "id": "uH3VI7_JqKWd"
      },
      "execution_count": null,
      "outputs": []
    },
    {
      "cell_type": "code",
      "source": [
        "from sklearn.feature_selection leport BCE\n",
        "from sklearn.linear model post logisticRegression\n",
        "loait data\n",
        "Filename/content/pima-Indians-diabetes.data.csy\"\n",
        "namesprog, plas, pres', skin', test\", nass, pedi', age, class datafrase read csv(filename, nanos-nanes)\n",
        "mint (detafra)\n",
        "array dataframe.values\n",
        "X = array[:,8:8]\n",
        "array[8]"
      ],
      "metadata": {
        "id": "UJE71ySaqVdr"
      },
      "execution_count": null,
      "outputs": []
    }
  ]
}