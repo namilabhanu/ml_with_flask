{
  "nbformat": 4,
  "nbformat_minor": 0,
  "metadata": {
    "colab": {
      "provenance": []
    },
    "kernelspec": {
      "name": "python3",
      "display_name": "Python 3"
    },
    "language_info": {
      "name": "python"
    }
  },
  "cells": [
    {
      "cell_type": "code",
      "execution_count": 1,
      "metadata": {
        "id": "7WLTDl3VY5om"
      },
      "outputs": [],
      "source": [
        "import pandas as pd\n",
        "from sklearn.linear_model import LogisticRegression\n",
        "from pickle import dump\n",
        "from pickle import load"
      ]
    },
    {
      "cell_type": "code",
      "source": [
        "df = pd.read_csv(r'')"
      ],
      "metadata": {
        "id": "LPcVEBxyZ2ZW"
      },
      "execution_count": null,
      "outputs": []
    }
  ]
}