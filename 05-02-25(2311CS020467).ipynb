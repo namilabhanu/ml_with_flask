{
 "cells": [
  {
   "cell_type": "code",
   "execution_count": 1,
   "id": "ca4365a3-f8bf-48fe-8c41-3407ca290e3b",
   "metadata": {},
   "outputs": [
    {
     "ename": "AttributeError",
     "evalue": "module 'statsmodels.api' has no attribute 'qqlot'",
     "output_type": "error",
     "traceback": [
      "\u001b[1;31m---------------------------------------------------------------------------\u001b[0m",
      "\u001b[1;31mAttributeError\u001b[0m                            Traceback (most recent call last)",
      "Cell \u001b[1;32mIn[1], line 2\u001b[0m\n\u001b[0;32m      1\u001b[0m \u001b[38;5;28;01mimport\u001b[39;00m \u001b[38;5;21;01mstatsmodels\u001b[39;00m\u001b[38;5;21;01m.\u001b[39;00m\u001b[38;5;21;01mapi\u001b[39;00m \u001b[38;5;28;01mas\u001b[39;00m \u001b[38;5;21;01msm\u001b[39;00m\n\u001b[1;32m----> 2\u001b[0m qqlot\u001b[38;5;241m=\u001b[39msm\u001b[38;5;241m.\u001b[39mqqlot(model\u001b[38;5;241m.\u001b[39mresid,line\u001b[38;5;241m=\u001b[39m\u001b[38;5;124m'\u001b[39m\u001b[38;5;124mq\u001b[39m\u001b[38;5;124m'\u001b[39m)\n\u001b[0;32m      3\u001b[0m plt\u001b[38;5;241m.\u001b[39mtitle(\u001b[38;5;124m\"\u001b[39m\u001b[38;5;124mNormal Q-Q plot of residuals\u001b[39m\u001b[38;5;124m\"\u001b[39m)\n\u001b[0;32m      4\u001b[0m plt\u001b[38;5;241m.\u001b[39mshow()\n",
      "\u001b[1;31mAttributeError\u001b[0m: module 'statsmodels.api' has no attribute 'qqlot'"
     ]
    }
   ],
   "source": [
    "import statsmodels.api as sm\n",
    "qqlot=sm.qqlot(model.resid,line='q')\n",
    "plt.title(\"Normal Q-Q plot of residuals\")\n",
    "plt.show()"
   ]
  },
  {
   "cell_type": "code",
   "execution_count": null,
   "id": "6906e474-1738-484e-aab2-5627f6813caf",
   "metadata": {},
   "outputs": [],
   "source": [
    "list(np.where(model.resid>10))\n"
   ]
  },
  {
   "cell_type": "code",
   "execution_count": null,
   "id": "63e8af40-6feb-480d-a639-ee7f87a471b0",
   "metadata": {},
   "outputs": [],
   "source": [
    "[] fig = plt.figure(figsize=(15,8))\n",
    "   fig = sm.graphics.plot_regress_exog(model, \"VOL\",fig=fig)\n",
    "   plt.show()"
   ]
  },
  {
   "cell_type": "code",
   "execution_count": null,
   "id": "24c289b6-0e11-4740-b82b-cebc349cba98",
   "metadata": {},
   "outputs": [],
   "source": []
  }
 ],
 "metadata": {
  "kernelspec": {
   "display_name": "Python [conda env:base] *",
   "language": "python",
   "name": "conda-base-py"
  },
  "language_info": {
   "codemirror_mode": {
    "name": "ipython",
    "version": 3
   },
   "file_extension": ".py",
   "mimetype": "text/x-python",
   "name": "python",
   "nbconvert_exporter": "python",
   "pygments_lexer": "ipython3",
   "version": "3.12.7"
  }
 },
 "nbformat": 4,
 "nbformat_minor": 5
}
