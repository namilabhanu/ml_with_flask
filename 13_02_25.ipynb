{
  "nbformat": 4,
  "nbformat_minor": 0,
  "metadata": {
    "colab": {
      "provenance": []
    },
    "kernelspec": {
      "name": "python3",
      "display_name": "Python 3"
    },
    "language_info": {
      "name": "python"
    }
  },
  "cells": [
    {
      "cell_type": "code",
      "execution_count": 1,
      "metadata": {
        "colab": {
          "base_uri": "https://localhost:8080/"
        },
        "id": "O7aLtwi4n9rl",
        "outputId": "3f08a3c9-5766-4fdc-ceff-d70147458958"
      },
      "outputs": [
        {
          "output_type": "stream",
          "name": "stdout",
          "text": [
            "Cosine Similarity: 0.408248290463863\n"
          ]
        }
      ],
      "source": [
        "#example for cosine similarity\n",
        "from sklearn.metrics.pairwise import cosine_similarity\n",
        "import numpy as np\n",
        "vector1 = np.array([1, 0, 1, 0, 0])\n",
        "vector2 = np.array([0, 1, 1, 0, 1])\n",
        "\n",
        "vector1 = vector1.reshape(1, -1)\n",
        "vector2 = vector2.reshape(1, -1)\n",
        "\n",
        "similarity = cosine_similarity(vector1, vector2)\n",
        "\n",
        "print(f\"Cosine Similarity: {similarity[0][0]}\")\n"
      ]
    },
    {
      "cell_type": "code",
      "source": [
        "#example for correlation coefficient\n",
        "import numpy as np\n",
        "\n",
        "vector1 = np.array([1, 2, 3, 4, 5])\n",
        "vector2 = np.array([5, 4, 3, 2, 1])\n",
        "\n",
        "correlation = np.corrcoef(vector1, vector2)[0, 1]\n",
        "\n",
        "print(f\"Correlation Similarity: {correlation}\")\n"
      ],
      "metadata": {
        "colab": {
          "base_uri": "https://localhost:8080/"
        },
        "id": "2mo4jE-3oj_h",
        "outputId": "644b0935-65da-408b-f0b5-c405a05a633f"
      },
      "execution_count": 2,
      "outputs": [
        {
          "output_type": "stream",
          "name": "stdout",
          "text": [
            "Correlation Similarity: -0.9999999999999999\n"
          ]
        }
      ]
    }
  ]
}